{
 "cells": [
  {
   "cell_type": "code",
   "execution_count": 144,
   "metadata": {},
   "outputs": [],
   "source": [
    "import numpy as np\n",
    "import pandas as pd\n",
    "import matplotlib.pyplot as plt\n",
    "import csv\n",
    "from datetime import datetime"
   ]
  },
  {
   "cell_type": "code",
   "execution_count": 145,
   "metadata": {},
   "outputs": [],
   "source": [
    "# set relative data path\n",
    "data_path = \"csse_covid_19_data/csse_covid_19_time_series/\""
   ]
  },
  {
   "cell_type": "code",
   "execution_count": 232,
   "metadata": {},
   "outputs": [],
   "source": [
    "# import latest data\n",
    "d = pd.read_csv(f\"{data_path}time_series_19-covid-Deaths.csv\")\n",
    "c = pd.read_csv(f\"{data_path}time_series_19-covid-Confirmed.csv\")\n",
    "r = pd.read_csv(f\"{data_path}time_series_19-covid-Recovered.csv\")"
   ]
  },
  {
   "cell_type": "code",
   "execution_count": 233,
   "metadata": {},
   "outputs": [],
   "source": [
    "# transform data from wide to long\n",
    "deaths = pd.melt(d, id_vars=[\"Province/State\", \"Country/Region\", \"Lat\", \"Long\"], var_name=\"Date\", value_name=\"Deaths\")\n",
    "confirmed = pd.melt(c, id_vars=[\"Province/State\", \"Country/Region\", \"Lat\", \"Long\"], var_name=\"Date\", value_name=\"Confirmed\")\n",
    "recovered = pd.melt(r, id_vars=[\"Province/State\", \"Country/Region\", \"Lat\", \"Long\"], var_name=\"Date\", value_name=\"Recovered\")"
   ]
  },
  {
   "cell_type": "code",
   "execution_count": 234,
   "metadata": {},
   "outputs": [],
   "source": [
    "# rename columns\n",
    "deaths.columns = ['Province', 'Country', 'Lat', 'Lon', 'Date', 'Deaths']\n",
    "confirmed.columns = ['Province', 'Country', 'Lat', 'Lon', 'Date', 'Confirmed']\n",
    "recovered.columns = ['Province', 'Country', 'Lat', 'Lon', 'Date', 'Recovered']\n",
    "\n",
    "# coerce date columns\n",
    "deaths.Date = pd.to_datetime(deaths.Date)\n",
    "confirmed.Date = pd.to_datetime(confirmed.Date)\n",
    "recovered.Date = pd.to_datetime(recovered.Date)\n",
    "\n",
    "# set indices\n",
    "#deaths = deaths.set_index(['Country', 'Province'])"
   ]
  },
  {
   "cell_type": "code",
   "execution_count": 235,
   "metadata": {},
   "outputs": [],
   "source": [
    "# import list of EUCOM countries\n",
    "with open('eucom.csv', 'r') as f:\n",
    "    eucom = [line.strip() for line in f]\n",
    "    \n",
    "# import list of non-EUCOM territories\n",
    "with open('non_ec_territories.csv', 'r') as f:\n",
    "    non_ec_territories = [line.strip() for line in f]"
   ]
  },
  {
   "cell_type": "code",
   "execution_count": 240,
   "metadata": {},
   "outputs": [],
   "source": [
    "# create dataframes of EUCOM countries\n",
    "e_deaths = deaths[deaths.Country.isin(eucom) & ~deaths.Province.isin(non_ec_territories)]\n",
    "e_confirmed = confirmed[confirmed.Country.isin(eucom) & ~confirmed.Province.isin(non_ec_territories)]\n",
    "e_recovered = recovered[recovered.Country.isin(eucom) & ~recovered.Province.isin(non_ec_territories)]"
   ]
  },
  {
   "cell_type": "code",
   "execution_count": null,
   "metadata": {},
   "outputs": [],
   "source": [
    "def line_plot(df, title, ylabel=\"Cases\", h=None, v=None,\n",
    "              xlim=(None, None), ylim=(0, None), math_scale=True, y_logscale=False):\n",
    "    \"\"\"\n",
    "    Show chronological\n",
    "    \"\"\"\n",
    "    ax = df.plot()\n",
    "    if math_scale:\n",
    "        ax.yaxis.set_major_formatter(ScalarFormatter(useMathText=True))\n",
    "        ax.ticklabel_format(style=\"sci\",  axis=\"y\",scilimits=(0, 0))\n",
    "    ax.set_title(title)\n",
    "    ax.set_xlabel(None)\n",
    "    ax.set_ylabel(ylabel)\n",
    "    ax.set_xlim(*xlim)\n",
    "    ax.set_ylim(*ylim)\n",
    "    ax.legend(bbox_to_anchor=(1.02, 0), loc=\"lower left\", borderaxespad=0)\n",
    "    if h is not None:\n",
    "        ax.axhline(y=h, color=\"black\", linestyle=\"--\")\n",
    "    if v is not None:\n",
    "        if not isinstance(v, list):\n",
    "            v = [v]\n",
    "        for value in v:\n",
    "            ax.axvline(x=value, color=\"black\", linestyle=\"--\")\n",
    "    if y_logscale:\n",
    "        ax.set_yscale(\"log\")\n",
    "    plt.tight_layout()\n",
    "    plt.show()"
   ]
  },
  {
   "cell_type": "code",
   "execution_count": 243,
   "metadata": {},
   "outputs": [
    {
     "data": {
      "image/png": "[encoded data removed]",
      "text/plain": [
       "<Figure size 432x288 with 1 Axes>"
      ]
     },
     "metadata": {
      "needs_background": "light"
     },
     "output_type": "display_data"
    }
   ],
   "source": [
    "ax = plt.gca()\n",
    "e_deaths.groupby('Date').Deaths.sum().plot(kind='line', x='Date', y='Deaths', ax=ax)\n",
    "e_confirmed.groupby('Date').Confirmed.sum().plot(kind='line', x='Date', y='Confirmed', ax=ax)\n",
    "e_recovered.groupby('Date').Recovered.sum().plot(kind='line', x='Date', y='Recovered', ax=ax)\n",
    "plt.show()"
   ]
  },
  {
   "cell_type": "code",
   "execution_count": null,
   "metadata": {},
   "outputs": [],
   "source": []
  }
 ],
 "metadata": {
  "kernelspec": {
   "display_name": "Python 3",
   "language": "python",
   "name": "python3"
  },
  "language_info": {
   "codemirror_mode": {
    "name": "ipython",
    "version": 3
   },
   "file_extension": ".py",
   "mimetype": "text/x-python",
   "name": "python",
   "nbconvert_exporter": "python",
   "pygments_lexer": "ipython3",
   "version": "3.7.6"
  }
 },
 "nbformat": 4,
 "nbformat_minor": 4
}
